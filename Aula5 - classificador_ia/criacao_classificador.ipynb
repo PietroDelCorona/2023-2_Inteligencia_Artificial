{
 "cells": [
  {
   "cell_type": "code",
   "execution_count": 17,
   "metadata": {},
   "outputs": [],
   "source": [
    "import tensorflow as tf\n",
    "import scipy, numpy\n",
    "\n",
    "from tensorflow.keras.preprocessing.image import ImageDataGenerator\n",
    "from tensorflow.keras.models import Sequential\n",
    "from tensorflow.keras.layers import Conv2D, MaxPooling2D, Flatten, Dense, Dropout"
   ]
  },
  {
   "cell_type": "markdown",
   "metadata": {},
   "source": [
    "Caminhos para as pastas de dados"
   ]
  },
  {
   "cell_type": "code",
   "execution_count": 18,
   "metadata": {},
   "outputs": [],
   "source": [
    "# Configurações para o treinamento\n",
    "train_data_dir = './data'\n",
    "batch_size = 32 # 32 imagens por lote\n",
    "num_epochs = 50 # 50 épocas de treinamento\n",
    "image_size = (150, 150) # 150x150 pixels\n",
    "num_classes = 2 # 2 classes: porco e gato"
   ]
  },
  {
   "cell_type": "markdown",
   "metadata": {},
   "source": [
    "Criando geradores de dados de treinamento"
   ]
  },
  {
   "cell_type": "code",
   "execution_count": 19,
   "metadata": {},
   "outputs": [],
   "source": [
    "train_datagen = ImageDataGenerator(\n",
    "    rescale=1.0/255,\n",
    "    validation_split=0.25, # 25% para validação\n",
    "    shear_range=0.2, # inclinação\n",
    "    zoom_range=0.2, # zoom\n",
    "    horizontal_flip=True # espelhamento horizontal\n",
    ")"
   ]
  },
  {
   "cell_type": "code",
   "execution_count": 20,
   "metadata": {},
   "outputs": [
    {
     "name": "stdout",
     "output_type": "stream",
     "text": [
      "Found 41 images belonging to 2 classes.\n"
     ]
    }
   ],
   "source": [
    "train_generator = train_datagen.flow_from_directory(\n",
    "    train_data_dir,\n",
    "    target_size=image_size,\n",
    "    batch_size=batch_size,\n",
    "    class_mode='binary',\n",
    "    subset='training'\n",
    ")"
   ]
  },
  {
   "cell_type": "code",
   "execution_count": 21,
   "metadata": {},
   "outputs": [
    {
     "name": "stdout",
     "output_type": "stream",
     "text": [
      "Found 12 images belonging to 2 classes.\n"
     ]
    }
   ],
   "source": [
    "validation_generator = train_datagen.flow_from_directory(\n",
    "    train_data_dir,\n",
    "    target_size=image_size,\n",
    "    batch_size=batch_size,\n",
    "    class_mode='binary',\n",
    "    subset='validation'\n",
    ")"
   ]
  },
  {
   "cell_type": "markdown",
   "metadata": {},
   "source": [
    "Camadas do modelo Sequential"
   ]
  },
  {
   "cell_type": "code",
   "execution_count": 22,
   "metadata": {},
   "outputs": [],
   "source": [
    "model = Sequential() # instanciando o modelo\n",
    "model.add(Conv2D(32, (3,3), input_shape=(image_size[0], image_size[1], 3), activation='relu')) # camada de convolução\n",
    "model.add(MaxPooling2D(pool_size=(2,2))) # camada de pooling\n",
    "model.add(Conv2D(64, (3,3), activation='relu')) # camada de convolução\n",
    "model.add(MaxPooling2D(pool_size=(2,2))) # camada de pooling\n",
    "model.add(Flatten()) # camada de achatamento ou vetorização\n",
    "model.add(Dense(64, activation='relu')) # neurônios\n",
    "model.add(Dropout(0.5)) # regularização 50% chance de desligar neurônios\n",
    "model.add(Dense(1, activation='sigmoid')) # camada de saída (classificação binária)"
   ]
  },
  {
   "cell_type": "markdown",
   "metadata": {},
   "source": [
    "Compilando o modelo"
   ]
  },
  {
   "cell_type": "code",
   "execution_count": 23,
   "metadata": {},
   "outputs": [],
   "source": [
    "# compilar o modelo\n",
    "model.compile(\n",
    "    optimizer='adam',\n",
    "    loss='binary_crossentropy', # mais próximo de 0 melhor 0.002 por exemplo\n",
    "    metrics=['accuracy']\n",
    ")"
   ]
  },
  {
   "cell_type": "markdown",
   "metadata": {},
   "source": [
    "Treinar e salvar o modelo"
   ]
  },
  {
   "cell_type": "code",
   "execution_count": 24,
   "metadata": {},
   "outputs": [
    {
     "name": "stdout",
     "output_type": "stream",
     "text": [
      "Epoch 1/50\n",
      "2/2 [==============================] - 7s 2s/step - loss: 1.0679 - accuracy: 0.4878 - val_loss: 2.4203 - val_accuracy: 0.5000\n",
      "Epoch 2/50\n",
      "2/2 [==============================] - 2s 2s/step - loss: 2.2964 - accuracy: 0.4390 - val_loss: 0.7088 - val_accuracy: 0.5000\n",
      "Epoch 3/50\n",
      "2/2 [==============================] - 2s 796ms/step - loss: 1.5636 - accuracy: 0.5122 - val_loss: 0.6066 - val_accuracy: 0.9167\n",
      "Epoch 4/50\n",
      "2/2 [==============================] - 3s 1s/step - loss: 0.7537 - accuracy: 0.4634 - val_loss: 0.6060 - val_accuracy: 0.7500\n",
      "Epoch 5/50\n",
      "2/2 [==============================] - 2s 1s/step - loss: 0.6376 - accuracy: 0.6341 - val_loss: 0.6023 - val_accuracy: 0.8333\n",
      "Epoch 6/50\n",
      "2/2 [==============================] - 2s 2s/step - loss: 0.6205 - accuracy: 0.5854 - val_loss: 0.6148 - val_accuracy: 0.6667\n",
      "Epoch 7/50\n",
      "2/2 [==============================] - 3s 1s/step - loss: 0.6210 - accuracy: 0.6341 - val_loss: 0.6260 - val_accuracy: 0.5833\n",
      "Epoch 8/50\n",
      "2/2 [==============================] - 3s 932ms/step - loss: 0.6456 - accuracy: 0.6341 - val_loss: 0.5743 - val_accuracy: 0.8333\n",
      "Epoch 9/50\n",
      "2/2 [==============================] - 3s 844ms/step - loss: 0.5314 - accuracy: 0.7561 - val_loss: 0.5382 - val_accuracy: 0.7500\n",
      "Epoch 10/50\n",
      "2/2 [==============================] - 3s 2s/step - loss: 0.4450 - accuracy: 0.8293 - val_loss: 0.5091 - val_accuracy: 0.6667\n",
      "Epoch 11/50\n",
      "2/2 [==============================] - 2s 2s/step - loss: 0.4839 - accuracy: 0.7073 - val_loss: 0.4762 - val_accuracy: 0.8333\n",
      "Epoch 12/50\n",
      "2/2 [==============================] - 2s 2s/step - loss: 0.4049 - accuracy: 0.8049 - val_loss: 0.4928 - val_accuracy: 0.8333\n",
      "Epoch 13/50\n",
      "2/2 [==============================] - 3s 961ms/step - loss: 0.3918 - accuracy: 0.7805 - val_loss: 0.3851 - val_accuracy: 0.7500\n",
      "Epoch 14/50\n",
      "2/2 [==============================] - 3s 2s/step - loss: 0.4270 - accuracy: 0.7561 - val_loss: 0.4734 - val_accuracy: 0.7500\n",
      "Epoch 15/50\n",
      "2/2 [==============================] - 3s 2s/step - loss: 0.4006 - accuracy: 0.7805 - val_loss: 0.4636 - val_accuracy: 0.7500\n",
      "Epoch 16/50\n",
      "2/2 [==============================] - 3s 947ms/step - loss: 0.3793 - accuracy: 0.8049 - val_loss: 0.4419 - val_accuracy: 0.8333\n",
      "Epoch 17/50\n",
      "2/2 [==============================] - 3s 2s/step - loss: 0.4010 - accuracy: 0.8049 - val_loss: 0.4439 - val_accuracy: 0.8333\n",
      "Epoch 18/50\n",
      "2/2 [==============================] - 3s 2s/step - loss: 0.4221 - accuracy: 0.7317 - val_loss: 0.3899 - val_accuracy: 0.9167\n",
      "Epoch 19/50\n",
      "2/2 [==============================] - 3s 840ms/step - loss: 0.3240 - accuracy: 0.8780 - val_loss: 0.3839 - val_accuracy: 0.8333\n",
      "Epoch 20/50\n",
      "2/2 [==============================] - 2s 2s/step - loss: 0.2485 - accuracy: 0.9024 - val_loss: 0.5051 - val_accuracy: 0.7500\n",
      "Epoch 21/50\n",
      "2/2 [==============================] - 2s 692ms/step - loss: 0.2334 - accuracy: 0.8537 - val_loss: 0.5821 - val_accuracy: 0.8333\n",
      "Epoch 22/50\n",
      "2/2 [==============================] - 2s 2s/step - loss: 0.2700 - accuracy: 0.8780 - val_loss: 0.5964 - val_accuracy: 0.7500\n",
      "Epoch 23/50\n",
      "2/2 [==============================] - 3s 2s/step - loss: 0.2640 - accuracy: 0.9268 - val_loss: 0.5240 - val_accuracy: 0.7500\n",
      "Epoch 24/50\n",
      "2/2 [==============================] - 3s 865ms/step - loss: 0.2034 - accuracy: 0.9024 - val_loss: 0.4099 - val_accuracy: 0.8333\n",
      "Epoch 25/50\n",
      "2/2 [==============================] - 2s 677ms/step - loss: 0.2505 - accuracy: 0.8780 - val_loss: 0.3457 - val_accuracy: 0.8333\n",
      "Epoch 26/50\n",
      "2/2 [==============================] - 2s 705ms/step - loss: 0.1512 - accuracy: 0.9024 - val_loss: 0.5512 - val_accuracy: 0.7500\n",
      "Epoch 27/50\n",
      "2/2 [==============================] - 2s 2s/step - loss: 0.2030 - accuracy: 0.8780 - val_loss: 0.3741 - val_accuracy: 0.8333\n",
      "Epoch 28/50\n",
      "2/2 [==============================] - 2s 2s/step - loss: 0.1497 - accuracy: 0.9024 - val_loss: 0.5080 - val_accuracy: 0.7500\n",
      "Epoch 29/50\n",
      "2/2 [==============================] - 2s 2s/step - loss: 0.1945 - accuracy: 0.8780 - val_loss: 0.3375 - val_accuracy: 0.8333\n",
      "Epoch 30/50\n",
      "2/2 [==============================] - 2s 1s/step - loss: 0.1811 - accuracy: 0.8780 - val_loss: 0.4551 - val_accuracy: 0.8333\n",
      "Epoch 31/50\n",
      "2/2 [==============================] - 2s 665ms/step - loss: 0.1185 - accuracy: 0.9512 - val_loss: 0.5173 - val_accuracy: 0.8333\n",
      "Epoch 32/50\n",
      "2/2 [==============================] - 2s 660ms/step - loss: 0.1331 - accuracy: 0.9024 - val_loss: 0.6368 - val_accuracy: 0.6667\n",
      "Epoch 33/50\n",
      "2/2 [==============================] - 2s 786ms/step - loss: 0.0949 - accuracy: 0.9512 - val_loss: 0.6563 - val_accuracy: 0.7500\n",
      "Epoch 34/50\n",
      "2/2 [==============================] - 2s 680ms/step - loss: 0.1194 - accuracy: 0.9756 - val_loss: 0.5997 - val_accuracy: 0.7500\n",
      "Epoch 35/50\n",
      "2/2 [==============================] - 2s 2s/step - loss: 0.1517 - accuracy: 0.9512 - val_loss: 0.5281 - val_accuracy: 0.8333\n",
      "Epoch 36/50\n",
      "2/2 [==============================] - 2s 742ms/step - loss: 0.1310 - accuracy: 0.9512 - val_loss: 0.7581 - val_accuracy: 0.7500\n",
      "Epoch 37/50\n",
      "2/2 [==============================] - 2s 2s/step - loss: 0.0720 - accuracy: 0.9512 - val_loss: 0.4894 - val_accuracy: 0.8333\n",
      "Epoch 38/50\n",
      "2/2 [==============================] - 3s 3s/step - loss: 0.0737 - accuracy: 0.9512 - val_loss: 0.8233 - val_accuracy: 0.7500\n",
      "Epoch 39/50\n",
      "2/2 [==============================] - 2s 636ms/step - loss: 0.1356 - accuracy: 0.9268 - val_loss: 0.5207 - val_accuracy: 0.8333\n",
      "Epoch 40/50\n",
      "2/2 [==============================] - 2s 2s/step - loss: 0.0922 - accuracy: 0.9756 - val_loss: 0.8618 - val_accuracy: 0.7500\n",
      "Epoch 41/50\n",
      "2/2 [==============================] - 2s 611ms/step - loss: 0.0910 - accuracy: 0.9268 - val_loss: 0.3903 - val_accuracy: 0.9167\n",
      "Epoch 42/50\n",
      "2/2 [==============================] - 2s 670ms/step - loss: 0.0613 - accuracy: 0.9756 - val_loss: 0.7327 - val_accuracy: 0.8333\n",
      "Epoch 43/50\n",
      "2/2 [==============================] - 2s 820ms/step - loss: 0.0664 - accuracy: 0.9512 - val_loss: 0.5760 - val_accuracy: 0.8333\n",
      "Epoch 44/50\n",
      "2/2 [==============================] - 2s 2s/step - loss: 0.0685 - accuracy: 0.9756 - val_loss: 0.7870 - val_accuracy: 0.7500\n",
      "Epoch 45/50\n",
      "2/2 [==============================] - 3s 2s/step - loss: 0.0470 - accuracy: 1.0000 - val_loss: 0.9182 - val_accuracy: 0.7500\n",
      "Epoch 46/50\n",
      "2/2 [==============================] - 2s 767ms/step - loss: 0.0470 - accuracy: 1.0000 - val_loss: 0.7993 - val_accuracy: 0.8333\n",
      "Epoch 47/50\n",
      "2/2 [==============================] - 2s 702ms/step - loss: 0.0442 - accuracy: 0.9756 - val_loss: 1.4893 - val_accuracy: 0.6667\n",
      "Epoch 48/50\n",
      "2/2 [==============================] - 2s 820ms/step - loss: 0.0437 - accuracy: 0.9756 - val_loss: 0.8720 - val_accuracy: 0.8333\n",
      "Epoch 49/50\n",
      "2/2 [==============================] - 2s 2s/step - loss: 0.0800 - accuracy: 0.9512 - val_loss: 0.7260 - val_accuracy: 0.7500\n",
      "Epoch 50/50\n",
      "2/2 [==============================] - 2s 2s/step - loss: 0.0655 - accuracy: 1.0000 - val_loss: 0.3329 - val_accuracy: 0.7500\n",
      "Treinamento concluído!\n"
     ]
    }
   ],
   "source": [
    "model.fit(\n",
    "    train_generator,\n",
    "    epochs=num_epochs,\n",
    "    validation_data=validation_generator\n",
    ")\n",
    "\n",
    "print('Treinamento concluído!')\n",
    "\n",
    "# Salvar o modelo\n",
    "model.save('modelo_aula.h5')"
   ]
  }
 ],
 "metadata": {
  "kernelspec": {
   "display_name": "Python 3",
   "language": "python",
   "name": "python3"
  },
  "language_info": {
   "codemirror_mode": {
    "name": "ipython",
    "version": 3
   },
   "file_extension": ".py",
   "mimetype": "text/x-python",
   "name": "python",
   "nbconvert_exporter": "python",
   "pygments_lexer": "ipython3",
   "version": "3.10.4"
  }
 },
 "nbformat": 4,
 "nbformat_minor": 2
}
