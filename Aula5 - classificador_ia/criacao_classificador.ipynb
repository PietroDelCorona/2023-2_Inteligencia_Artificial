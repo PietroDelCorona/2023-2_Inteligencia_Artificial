{
 "cells": [
  {
   "cell_type": "code",
   "execution_count": 9,
   "metadata": {},
   "outputs": [],
   "source": [
    "import tensorflow as tf\n",
    "import scipy, numpy\n",
    "\n",
    "from tensorflow.keras.preprocessing.image import ImageDataGenerator\n",
    "from tensorflow.keras.models import Sequential\n",
    "from tensorflow.keras.layers import Conv2D, MaxPooling2D, Flatten, Dense, Dropout"
   ]
  },
  {
   "cell_type": "markdown",
   "metadata": {},
   "source": [
    "Caminhos para as pastas de dados"
   ]
  },
  {
   "cell_type": "code",
   "execution_count": 10,
   "metadata": {},
   "outputs": [],
   "source": [
    "train_data_dir = './data'\n",
    "batch_size = 32\n",
    "image_size = (150,150)\n",
    "num_epochs = 50\n",
    "num_classes = 2"
   ]
  },
  {
   "cell_type": "markdown",
   "metadata": {},
   "source": [
    "Criando geradores de dados de treinamento"
   ]
  },
  {
   "cell_type": "code",
   "execution_count": 11,
   "metadata": {},
   "outputs": [],
   "source": [
    "train_datagen = ImageDataGenerator(\n",
    "    rescale= 1.0 / 255, #normalizand valor do pixel\n",
    "    validation_split = 0.25, # define a divisão da validação\n",
    "    shear_range = 0.2, # faixa de inclinação\n",
    "    zoom_range = 0.2,\n",
    "    horizontal_flip =True)"
   ]
  },
  {
   "cell_type": "code",
   "execution_count": 12,
   "metadata": {},
   "outputs": [
    {
     "name": "stdout",
     "output_type": "stream",
     "text": [
      "Found 41 images belonging to 2 classes.\n"
     ]
    }
   ],
   "source": [
    "train_generator = train_datagen.flow_from_directory(\n",
    "    train_data_dir,\n",
    "    target_size=image_size,\n",
    "    batch_size=batch_size,\n",
    "    class_mode = 'binary',\n",
    "    subset = 'training'\n",
    ")"
   ]
  },
  {
   "cell_type": "code",
   "execution_count": 13,
   "metadata": {},
   "outputs": [
    {
     "name": "stdout",
     "output_type": "stream",
     "text": [
      "Found 12 images belonging to 2 classes.\n"
     ]
    }
   ],
   "source": [
    "validation_generator = train_datagen.flow_from_directory(\n",
    "    train_data_dir,\n",
    "    target_size = image_size,\n",
    "    batch_size = batch_size,\n",
    "    class_mode = 'binary',\n",
    "    subset = 'validation'\n",
    ")"
   ]
  },
  {
   "cell_type": "markdown",
   "metadata": {},
   "source": [
    "Camadas do modelo Sequential"
   ]
  },
  {
   "cell_type": "code",
   "execution_count": 14,
   "metadata": {},
   "outputs": [],
   "source": [
    "model = Sequential()\n",
    "model.add(Conv2D(32, (3, 3), input_shape=(image_size[0], image_size[1], 3), activation='relu'))\n",
    "model.add(MaxPooling2D(pool_size=(2, 2)))\n",
    "model.add(Conv2D(64, (3, 3), activation='relu'))\n",
    "model.add(MaxPooling2D(pool_size=(2, 2)))\n",
    "model.add(Flatten())\n",
    "model.add(Dense(64, activation='relu'))\n",
    "model.add(Dropout(0.5))\n",
    "model.add(Dense(1, activation='sigmoid'))  # Camada de saída com 1 unidade para classificação binária"
   ]
  },
  {
   "cell_type": "markdown",
   "metadata": {},
   "source": [
    "Compilando o modelo"
   ]
  },
  {
   "cell_type": "code",
   "execution_count": 15,
   "metadata": {},
   "outputs": [],
   "source": [
    "model.compile(optimizer = 'adam',\n",
    "              loss = 'binary_crossentropy',              \n",
    "              metrics = ['accuracy'])"
   ]
  },
  {
   "cell_type": "markdown",
   "metadata": {},
   "source": [
    "Treinar e salvar o modelo"
   ]
  },
  {
   "cell_type": "code",
   "execution_count": 16,
   "metadata": {},
   "outputs": [
    {
     "name": "stdout",
     "output_type": "stream",
     "text": [
      "Epoch 1/50\n",
      "2/2 [==============================] - 4s 2s/step - loss: 2.3176 - accuracy: 0.4390 - val_loss: 1.8402 - val_accuracy: 0.5000\n",
      "Epoch 2/50\n",
      "2/2 [==============================] - 2s 646ms/step - loss: 1.9685 - accuracy: 0.5122 - val_loss: 0.6701 - val_accuracy: 0.5833\n",
      "Epoch 3/50\n",
      "2/2 [==============================] - 2s 620ms/step - loss: 0.6967 - accuracy: 0.6585 - val_loss: 0.7989 - val_accuracy: 0.5000\n",
      "Epoch 4/50\n",
      "2/2 [==============================] - 2s 828ms/step - loss: 0.8137 - accuracy: 0.5122 - val_loss: 0.7180 - val_accuracy: 0.5000\n",
      "Epoch 5/50\n",
      "2/2 [==============================] - 2s 1s/step - loss: 0.6717 - accuracy: 0.5854 - val_loss: 0.6691 - val_accuracy: 0.6667\n",
      "Epoch 6/50\n",
      "2/2 [==============================] - 2s 551ms/step - loss: 0.6722 - accuracy: 0.5854 - val_loss: 0.6646 - val_accuracy: 0.5000\n",
      "Epoch 7/50\n",
      "2/2 [==============================] - 2s 579ms/step - loss: 0.6596 - accuracy: 0.4878 - val_loss: 0.6690 - val_accuracy: 0.6667\n",
      "Epoch 8/50\n",
      "2/2 [==============================] - 2s 1s/step - loss: 0.6571 - accuracy: 0.6098 - val_loss: 0.6692 - val_accuracy: 0.5000\n",
      "Epoch 9/50\n",
      "2/2 [==============================] - 2s 1s/step - loss: 0.6100 - accuracy: 0.7073 - val_loss: 0.6369 - val_accuracy: 0.6667\n",
      "Epoch 10/50\n",
      "2/2 [==============================] - 2s 1s/step - loss: 0.5980 - accuracy: 0.6341 - val_loss: 0.5909 - val_accuracy: 0.7500\n",
      "Epoch 11/50\n",
      "2/2 [==============================] - 2s 1s/step - loss: 0.6242 - accuracy: 0.6098 - val_loss: 0.5821 - val_accuracy: 0.6667\n",
      "Epoch 12/50\n",
      "2/2 [==============================] - 2s 742ms/step - loss: 0.5477 - accuracy: 0.7317 - val_loss: 0.5819 - val_accuracy: 0.6667\n",
      "Epoch 13/50\n",
      "2/2 [==============================] - 2s 2s/step - loss: 0.4814 - accuracy: 0.7561 - val_loss: 0.6414 - val_accuracy: 0.6667\n",
      "Epoch 14/50\n",
      "2/2 [==============================] - 2s 898ms/step - loss: 0.5190 - accuracy: 0.7317 - val_loss: 0.5226 - val_accuracy: 0.7500\n",
      "Epoch 15/50\n",
      "2/2 [==============================] - 2s 635ms/step - loss: 0.4149 - accuracy: 0.9024 - val_loss: 0.5006 - val_accuracy: 0.8333\n",
      "Epoch 16/50\n",
      "2/2 [==============================] - 2s 1s/step - loss: 0.4066 - accuracy: 0.8293 - val_loss: 0.4797 - val_accuracy: 0.8333\n",
      "Epoch 17/50\n",
      "2/2 [==============================] - 2s 602ms/step - loss: 0.3878 - accuracy: 0.8049 - val_loss: 0.4945 - val_accuracy: 0.7500\n",
      "Epoch 18/50\n",
      "2/2 [==============================] - 2s 567ms/step - loss: 0.3359 - accuracy: 0.8780 - val_loss: 0.3928 - val_accuracy: 0.8333\n",
      "Epoch 19/50\n",
      "2/2 [==============================] - 2s 1s/step - loss: 0.3192 - accuracy: 0.8780 - val_loss: 0.5256 - val_accuracy: 0.7500\n",
      "Epoch 20/50\n",
      "2/2 [==============================] - 2s 617ms/step - loss: 0.3996 - accuracy: 0.7561 - val_loss: 0.5551 - val_accuracy: 0.6667\n",
      "Epoch 21/50\n",
      "2/2 [==============================] - 2s 2s/step - loss: 0.3322 - accuracy: 0.8780 - val_loss: 0.4306 - val_accuracy: 0.7500\n",
      "Epoch 22/50\n",
      "2/2 [==============================] - 3s 941ms/step - loss: 0.2755 - accuracy: 0.8780 - val_loss: 0.3659 - val_accuracy: 0.8333\n",
      "Epoch 23/50\n",
      "2/2 [==============================] - 3s 2s/step - loss: 0.2817 - accuracy: 0.9024 - val_loss: 0.3554 - val_accuracy: 0.8333\n",
      "Epoch 24/50\n",
      "2/2 [==============================] - 4s 3s/step - loss: 0.2473 - accuracy: 0.9024 - val_loss: 0.3699 - val_accuracy: 0.8333\n",
      "Epoch 25/50\n",
      "2/2 [==============================] - 4s 3s/step - loss: 0.2729 - accuracy: 0.8537 - val_loss: 0.4356 - val_accuracy: 0.7500\n",
      "Epoch 26/50\n",
      "2/2 [==============================] - 3s 791ms/step - loss: 0.2982 - accuracy: 0.8780 - val_loss: 0.4480 - val_accuracy: 0.8333\n",
      "Epoch 27/50\n",
      "2/2 [==============================] - 2s 710ms/step - loss: 0.2402 - accuracy: 0.9024 - val_loss: 0.4581 - val_accuracy: 0.7500\n",
      "Epoch 28/50\n",
      "2/2 [==============================] - 2s 740ms/step - loss: 0.2374 - accuracy: 0.8780 - val_loss: 0.6770 - val_accuracy: 0.7500\n",
      "Epoch 29/50\n",
      "2/2 [==============================] - 2s 2s/step - loss: 0.2436 - accuracy: 0.8537 - val_loss: 0.4508 - val_accuracy: 0.8333\n",
      "Epoch 30/50\n",
      "2/2 [==============================] - 2s 620ms/step - loss: 0.2993 - accuracy: 0.9024 - val_loss: 0.4583 - val_accuracy: 0.8333\n",
      "Epoch 31/50\n",
      "2/2 [==============================] - 2s 667ms/step - loss: 0.2165 - accuracy: 0.9268 - val_loss: 0.6023 - val_accuracy: 0.7500\n",
      "Epoch 32/50\n",
      "2/2 [==============================] - 2s 2s/step - loss: 0.1936 - accuracy: 0.9024 - val_loss: 0.4719 - val_accuracy: 0.8333\n",
      "Epoch 33/50\n",
      "2/2 [==============================] - 2s 681ms/step - loss: 0.1798 - accuracy: 0.9024 - val_loss: 0.5722 - val_accuracy: 0.7500\n",
      "Epoch 34/50\n",
      "2/2 [==============================] - 2s 679ms/step - loss: 0.1681 - accuracy: 0.9512 - val_loss: 0.5802 - val_accuracy: 0.7500\n",
      "Epoch 35/50\n",
      "2/2 [==============================] - 2s 1s/step - loss: 0.1316 - accuracy: 0.9512 - val_loss: 0.6143 - val_accuracy: 0.8333\n",
      "Epoch 36/50\n",
      "2/2 [==============================] - 2s 642ms/step - loss: 0.2156 - accuracy: 0.9268 - val_loss: 0.5175 - val_accuracy: 0.8333\n",
      "Epoch 37/50\n",
      "2/2 [==============================] - 2s 621ms/step - loss: 0.1294 - accuracy: 1.0000 - val_loss: 0.7071 - val_accuracy: 0.6667\n",
      "Epoch 38/50\n",
      "2/2 [==============================] - 2s 605ms/step - loss: 0.1866 - accuracy: 0.9268 - val_loss: 0.4695 - val_accuracy: 0.8333\n",
      "Epoch 39/50\n",
      "2/2 [==============================] - 2s 1s/step - loss: 0.1489 - accuracy: 0.9268 - val_loss: 0.4250 - val_accuracy: 0.8333\n",
      "Epoch 40/50\n",
      "2/2 [==============================] - 2s 1s/step - loss: 0.1665 - accuracy: 0.9024 - val_loss: 0.4931 - val_accuracy: 0.8333\n",
      "Epoch 41/50\n",
      "2/2 [==============================] - 2s 613ms/step - loss: 0.1116 - accuracy: 0.9756 - val_loss: 0.6171 - val_accuracy: 0.8333\n",
      "Epoch 42/50\n",
      "2/2 [==============================] - 2s 1s/step - loss: 0.1306 - accuracy: 0.9268 - val_loss: 0.7891 - val_accuracy: 0.8333\n",
      "Epoch 43/50\n",
      "2/2 [==============================] - 2s 1s/step - loss: 0.0968 - accuracy: 0.9512 - val_loss: 1.0385 - val_accuracy: 0.6667\n",
      "Epoch 44/50\n",
      "2/2 [==============================] - 2s 1s/step - loss: 0.1782 - accuracy: 0.9268 - val_loss: 0.5053 - val_accuracy: 0.7500\n",
      "Epoch 45/50\n",
      "2/2 [==============================] - 2s 602ms/step - loss: 0.1179 - accuracy: 0.9512 - val_loss: 0.3571 - val_accuracy: 0.9167\n",
      "Epoch 46/50\n",
      "2/2 [==============================] - 2s 627ms/step - loss: 0.1118 - accuracy: 0.9512 - val_loss: 0.2792 - val_accuracy: 0.8333\n",
      "Epoch 47/50\n",
      "2/2 [==============================] - 2s 1s/step - loss: 0.1278 - accuracy: 0.9756 - val_loss: 0.2467 - val_accuracy: 0.9167\n",
      "Epoch 48/50\n",
      "2/2 [==============================] - 2s 617ms/step - loss: 0.0946 - accuracy: 1.0000 - val_loss: 0.4487 - val_accuracy: 0.7500\n",
      "Epoch 49/50\n",
      "2/2 [==============================] - 2s 1s/step - loss: 0.0754 - accuracy: 0.9756 - val_loss: 0.4418 - val_accuracy: 0.8333\n",
      "Epoch 50/50\n",
      "2/2 [==============================] - 2s 1s/step - loss: 0.0783 - accuracy: 1.0000 - val_loss: 0.6404 - val_accuracy: 0.8333\n",
      "Modelo salvo com sucesso!\n"
     ]
    },
    {
     "name": "stderr",
     "output_type": "stream",
     "text": [
      "c:\\Users\\pgdel\\AppData\\Local\\Programs\\Python\\Python310\\lib\\site-packages\\keras\\src\\engine\\training.py:3079: UserWarning: You are saving your model as an HDF5 file via `model.save()`. This file format is considered legacy. We recommend using instead the native Keras format, e.g. `model.save('my_model.keras')`.\n",
      "  saving_api.save_model(\n"
     ]
    }
   ],
   "source": [
    "model.fit(\n",
    "    train_generator,\n",
    "    epochs = num_epochs,\n",
    "    validation_data = validation_generator)\n",
    "\n",
    "print('Modelo salvo com sucesso!')\n",
    "\n",
    "model.save('modelo_aula.h5')"
   ]
  }
 ],
 "metadata": {
  "kernelspec": {
   "display_name": "Python 3",
   "language": "python",
   "name": "python3"
  },
  "language_info": {
   "codemirror_mode": {
    "name": "ipython",
    "version": 3
   },
   "file_extension": ".py",
   "mimetype": "text/x-python",
   "name": "python",
   "nbconvert_exporter": "python",
   "pygments_lexer": "ipython3",
   "version": "3.10.4"
  }
 },
 "nbformat": 4,
 "nbformat_minor": 2
}
