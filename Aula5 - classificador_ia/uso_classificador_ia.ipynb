{
 "cells": [
  {
   "cell_type": "code",
   "execution_count": 23,
   "metadata": {},
   "outputs": [],
   "source": [
    "import os\n",
    "import tensorflow as tf\n",
    "from tensorflow.keras.preprocessing import image\n",
    "import numpy as np\n"
   ]
  },
  {
   "cell_type": "markdown",
   "metadata": {},
   "source": [
    "Carregar o modelo treinado\n",
    "\n",
    "Carregar uma nova imagem para classificação\n",
    "\n",
    "Pré-processamento da nova imagem\n",
    "\n",
    "Previsão do modelo carregado"
   ]
  },
  {
   "cell_type": "code",
   "execution_count": 24,
   "metadata": {},
   "outputs": [
    {
     "name": "stdout",
     "output_type": "stream",
     "text": [
      "1/1 [==============================] - 3s 3s/step\n"
     ]
    }
   ],
   "source": [
    "# Carregue o modelo treinado\n",
    "model = tf.keras.models.load_model('treinamento.keras')\n",
    "\n",
    "# Carregue uma nova imagem para classificação\n",
    "new_image_path = './test/teste_gato_1.jpg'  # Substitua 'nova_imagem.jpg' pelo nome da sua nova imagem\n",
    "\n",
    "# Pré-processe a nova imagem\n",
    "img = image.load_img(new_image_path, target_size=(150, 150))\n",
    "img = image.img_to_array(img)\n",
    "img = np.expand_dims(img, axis=0)\n",
    "img = img / 255.0  # Normalize a imagem (igual ao pré-processamento durante o treinamento)\n",
    "\n",
    "# Faça a previsão usando o modelo carregado\n",
    "prediction = model.predict(img)"
   ]
  },
  {
   "cell_type": "markdown",
   "metadata": {},
   "source": [
    "Classificar a previsão"
   ]
  },
  {
   "cell_type": "code",
   "execution_count": 25,
   "metadata": {},
   "outputs": [
    {
     "name": "stdout",
     "output_type": "stream",
     "text": [
      "89.34\n",
      "Classe 1, um gato\n"
     ]
    },
    {
     "name": "stderr",
     "output_type": "stream",
     "text": [
      "C:\\Users\\pgdel\\AppData\\Local\\Temp\\ipykernel_11388\\70744471.py:1: DeprecationWarning: Conversion of an array with ndim > 0 to a scalar is deprecated, and will error in future. Ensure you extract a single element from your array before performing this operation. (Deprecated NumPy 1.25.)\n",
      "  print(f'%.2f' % (prediction * 100))\n"
     ]
    }
   ],
   "source": [
    "print(f'%.2f' % (prediction * 100))\n",
    "\n",
    "if prediction < 0.5:\n",
    "    print(\"Classe 0, um porco\")\n",
    "else:\n",
    "    print(\"Classe 1, um gato\")"
   ]
  },
  {
   "cell_type": "markdown",
   "metadata": {},
   "source": [
    "Diretório de imagens de teste\n",
    "\n",
    "Percorrer todas as imagens na pasta de teste\n",
    "\n",
    "Pré-processamento da imagem de teste\n",
    "\n",
    "Fazer a previsão usando o modelo carregado"
   ]
  },
  {
   "cell_type": "code",
   "execution_count": 26,
   "metadata": {},
   "outputs": [
    {
     "name": "stdout",
     "output_type": "stream",
     "text": [
      "girafa.jpeg\n",
      "1/1 [==============================] - 0s 135ms/step\n",
      "Classe 1, um gato\n",
      "0.59\n",
      "\n",
      "teste_gato_1.jpg\n",
      "1/1 [==============================] - 0s 53ms/step\n",
      "Classe 1, um gato\n",
      "0.89\n",
      "\n",
      "teste_gato_2.jpg\n"
     ]
    },
    {
     "name": "stderr",
     "output_type": "stream",
     "text": [
      "C:\\Users\\pgdel\\AppData\\Local\\Temp\\ipykernel_11388\\3838824759.py:20: DeprecationWarning: Conversion of an array with ndim > 0 to a scalar is deprecated, and will error in future. Ensure you extract a single element from your array before performing this operation. (Deprecated NumPy 1.25.)\n",
      "  print(f'%.2f\\n' % (prediction))\n"
     ]
    },
    {
     "name": "stdout",
     "output_type": "stream",
     "text": [
      "1/1 [==============================] - 0s 56ms/step\n",
      "Classe 1, um gato\n",
      "0.88\n",
      "\n",
      "teste_gato_3_gen.jpeg\n",
      "1/1 [==============================] - 0s 53ms/step\n",
      "Classe 1, um gato\n",
      "1.00\n",
      "\n",
      "teste_porco_1.jpg\n",
      "1/1 [==============================] - 0s 38ms/step\n",
      "Classe 0, um porco\n",
      "0.00\n",
      "\n",
      "teste_porco_2.jpg\n",
      "1/1 [==============================] - 0s 53ms/step\n",
      "Classe 0, um porco\n",
      "0.30\n",
      "\n",
      "teste_porco_3_gen.jpeg\n",
      "1/1 [==============================] - 0s 55ms/step\n",
      "Classe 0, um porco\n",
      "0.00\n",
      "\n"
     ]
    }
   ],
   "source": [
    "test_directory = './test'\n",
    "\n",
    "for filename in os.listdir(test_directory):\n",
    "    if filename.endswith(\".jpg\") or filename.endswith(\".jpeg\"):\n",
    "        print(filename)\n",
    "        \n",
    "        image_path = os.path.join(test_directory, filename)\n",
    "        \n",
    "        img = image.load_img(image_path, target_size=(150,150))\n",
    "        img = image.img_to_array(img)\n",
    "        img = np.expand_dims(img, axis=0)\n",
    "        img = img / 255.0\n",
    "        \n",
    "        prediction = model.predict(img)\n",
    "        \n",
    "        if prediction < 0.5:\n",
    "            print(\"Classe 0, um porco\")\n",
    "        else:\n",
    "            print(\"Classe 1, um gato\")\n",
    "        print(f'%.2f\\n' % (prediction))"
   ]
  }
 ],
 "metadata": {
  "kernelspec": {
   "display_name": "Python 3",
   "language": "python",
   "name": "python3"
  },
  "language_info": {
   "codemirror_mode": {
    "name": "ipython",
    "version": 3
   },
   "file_extension": ".py",
   "mimetype": "text/x-python",
   "name": "python",
   "nbconvert_exporter": "python",
   "pygments_lexer": "ipython3",
   "version": "3.10.4"
  }
 },
 "nbformat": 4,
 "nbformat_minor": 2
}
