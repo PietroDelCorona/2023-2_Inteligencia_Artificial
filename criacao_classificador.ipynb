{
 "cells": [
  {
   "cell_type": "code",
   "execution_count": 33,
   "metadata": {},
   "outputs": [],
   "source": [
    "import tensorflow as tf\n",
    "import scipy, numpy\n",
    "\n",
    "from tensorflow.keras.preprocessing.image import ImageDataGenerator\n",
    "from tensorflow.keras.models import Sequential\n",
    "from tensorflow.keras.layers import Conv2D, MaxPooling2D, Flatten, Dense, Dropout"
   ]
  },
  {
   "cell_type": "markdown",
   "metadata": {},
   "source": [
    "Caminhos para as pastas de dados"
   ]
  },
  {
   "cell_type": "code",
   "execution_count": 34,
   "metadata": {},
   "outputs": [],
   "source": [
    "# Configurações para o treinamento\n",
    "train_data_dir = './data'\n",
    "batch_size = 32 # 32 imagens por lote\n",
    "num_epochs = 50 # 50 épocas de treinamento\n",
    "image_size = (150, 150) # 150x150 pixels\n",
    "num_classes = 2 # 2 classes: porco e gato"
   ]
  },
  {
   "cell_type": "markdown",
   "metadata": {},
   "source": [
    "Criando geradores de dados de treinamento"
   ]
  },
  {
   "cell_type": "code",
   "execution_count": 35,
   "metadata": {},
   "outputs": [],
   "source": [
    "train_datagen = ImageDataGenerator(\n",
    "    rescale=1.0/255,\n",
    "    validation_split=0.25, # 25% para validação\n",
    "    shear_range=0.2, # inclinação\n",
    "    zoom_range=0.2, # zoom\n",
    "    horizontal_flip=True # espelhamento horizontal\n",
    ")"
   ]
  },
  {
   "cell_type": "code",
   "execution_count": 36,
   "metadata": {},
   "outputs": [
    {
     "name": "stdout",
     "output_type": "stream",
     "text": [
      "Found 41 images belonging to 2 classes.\n"
     ]
    }
   ],
   "source": [
    "train_generator = train_datagen.flow_from_directory(\n",
    "    train_data_dir,\n",
    "    target_size=image_size,\n",
    "    batch_size=batch_size,\n",
    "    class_mode='binary',\n",
    "    subset='training'\n",
    ")"
   ]
  },
  {
   "cell_type": "code",
   "execution_count": 37,
   "metadata": {},
   "outputs": [
    {
     "name": "stdout",
     "output_type": "stream",
     "text": [
      "Found 12 images belonging to 2 classes.\n"
     ]
    }
   ],
   "source": [
    "validation_generator = train_datagen.flow_from_directory(\n",
    "    train_data_dir,\n",
    "    target_size=image_size,\n",
    "    batch_size=batch_size,\n",
    "    class_mode='binary',\n",
    "    subset='validation'\n",
    ")"
   ]
  },
  {
   "cell_type": "markdown",
   "metadata": {},
   "source": [
    "Camadas do modelo Sequential"
   ]
  },
  {
   "cell_type": "code",
   "execution_count": 38,
   "metadata": {},
   "outputs": [],
   "source": [
    "model = Sequential() # instanciando o modelo\n",
    "model.add(Conv2D(32, (3,3), input_shape=(image_size[0], image_size[1], 3), activation='relu')) # camada de convolução\n",
    "model.add(MaxPooling2D(pool_size=(2,2))) # camada de pooling\n",
    "model.add(Conv2D(64, (3,3), activation='relu')) # camada de convolução\n",
    "model.add(MaxPooling2D(pool_size=(2,2))) # camada de pooling\n",
    "model.add(Flatten()) # camada de achatamento ou vetorização\n",
    "model.add(Dense(64, activation='relu')) # neurônios\n",
    "model.add(Dropout(0.5)) # regularização 50% chance de desligar neurônios\n",
    "model.add(Dense(1, activation='sigmoid')) # camada de saída (classificação binária)"
   ]
  },
  {
   "cell_type": "markdown",
   "metadata": {},
   "source": [
    "Compilando o modelo"
   ]
  },
  {
   "cell_type": "code",
   "execution_count": 39,
   "metadata": {},
   "outputs": [],
   "source": [
    "# compilar o modelo\n",
    "model.compile(\n",
    "    optimizer='adam',\n",
    "    loss='binary_crossentropy', # mais próximo de 0 melhor 0.002 por exemplo\n",
    "    metrics=['accuracy']\n",
    ")"
   ]
  },
  {
   "cell_type": "markdown",
   "metadata": {},
   "source": [
    "Treinar e salvar o modelo"
   ]
  },
  {
   "cell_type": "code",
   "execution_count": 40,
   "metadata": {},
   "outputs": [
    {
     "name": "stdout",
     "output_type": "stream",
     "text": [
      "Epoch 1/50\n",
      "2/2 [==============================] - 4s 2s/step - loss: 2.2578 - accuracy: 0.4146 - val_loss: 0.8802 - val_accuracy: 0.5000\n",
      "Epoch 2/50\n",
      "2/2 [==============================] - 2s 587ms/step - loss: 0.8615 - accuracy: 0.5122 - val_loss: 0.7458 - val_accuracy: 0.5000\n",
      "Epoch 3/50\n",
      "2/2 [==============================] - 2s 1s/step - loss: 0.7117 - accuracy: 0.5366 - val_loss: 0.6782 - val_accuracy: 0.5000\n",
      "Epoch 4/50\n",
      "2/2 [==============================] - 2s 1s/step - loss: 0.7360 - accuracy: 0.4146 - val_loss: 0.6624 - val_accuracy: 0.7500\n",
      "Epoch 5/50\n",
      "2/2 [==============================] - 2s 1s/step - loss: 0.6631 - accuracy: 0.5610 - val_loss: 0.6689 - val_accuracy: 0.5000\n",
      "Epoch 6/50\n",
      "2/2 [==============================] - 2s 742ms/step - loss: 0.6549 - accuracy: 0.5122 - val_loss: 0.6632 - val_accuracy: 0.8333\n",
      "Epoch 7/50\n",
      "2/2 [==============================] - 2s 616ms/step - loss: 0.6448 - accuracy: 0.5366 - val_loss: 0.6406 - val_accuracy: 0.6667\n",
      "Epoch 8/50\n",
      "2/2 [==============================] - 2s 676ms/step - loss: 0.6070 - accuracy: 0.7073 - val_loss: 0.6468 - val_accuracy: 0.6667\n",
      "Epoch 9/50\n",
      "2/2 [==============================] - 2s 798ms/step - loss: 0.5677 - accuracy: 0.7561 - val_loss: 0.5967 - val_accuracy: 0.7500\n",
      "Epoch 10/50\n",
      "2/2 [==============================] - 3s 756ms/step - loss: 0.5239 - accuracy: 0.8049 - val_loss: 0.5951 - val_accuracy: 0.7500\n",
      "Epoch 11/50\n",
      "2/2 [==============================] - 3s 879ms/step - loss: 0.5405 - accuracy: 0.7805 - val_loss: 0.6162 - val_accuracy: 0.6667\n",
      "Epoch 12/50\n",
      "2/2 [==============================] - 3s 762ms/step - loss: 0.4882 - accuracy: 0.7805 - val_loss: 0.5326 - val_accuracy: 0.7500\n",
      "Epoch 13/50\n",
      "2/2 [==============================] - 3s 946ms/step - loss: 0.4836 - accuracy: 0.8049 - val_loss: 0.5025 - val_accuracy: 0.7500\n",
      "Epoch 14/50\n",
      "2/2 [==============================] - 4s 1s/step - loss: 0.4446 - accuracy: 0.9024 - val_loss: 0.4954 - val_accuracy: 0.8333\n",
      "Epoch 15/50\n",
      "2/2 [==============================] - 3s 2s/step - loss: 0.4309 - accuracy: 0.8537 - val_loss: 0.4508 - val_accuracy: 0.8333\n",
      "Epoch 16/50\n",
      "2/2 [==============================] - 3s 847ms/step - loss: 0.4118 - accuracy: 0.8049 - val_loss: 0.4706 - val_accuracy: 0.7500\n",
      "Epoch 17/50\n",
      "2/2 [==============================] - 3s 803ms/step - loss: 0.3867 - accuracy: 0.8537 - val_loss: 0.4899 - val_accuracy: 0.8333\n",
      "Epoch 18/50\n",
      "2/2 [==============================] - 2s 2s/step - loss: 0.4120 - accuracy: 0.8293 - val_loss: 0.3322 - val_accuracy: 0.8333\n",
      "Epoch 19/50\n",
      "2/2 [==============================] - 2s 1s/step - loss: 0.3444 - accuracy: 0.8537 - val_loss: 0.3111 - val_accuracy: 0.8333\n",
      "Epoch 20/50\n",
      "2/2 [==============================] - 2s 2s/step - loss: 0.2827 - accuracy: 0.8537 - val_loss: 0.3055 - val_accuracy: 0.8333\n",
      "Epoch 21/50\n",
      "2/2 [==============================] - 2s 772ms/step - loss: 0.2708 - accuracy: 0.9024 - val_loss: 0.3414 - val_accuracy: 0.7500\n",
      "Epoch 22/50\n",
      "2/2 [==============================] - 2s 713ms/step - loss: 0.2469 - accuracy: 0.9268 - val_loss: 0.3045 - val_accuracy: 0.9167\n",
      "Epoch 23/50\n",
      "2/2 [==============================] - 2s 775ms/step - loss: 0.2873 - accuracy: 0.8537 - val_loss: 0.3262 - val_accuracy: 0.9167\n",
      "Epoch 24/50\n",
      "2/2 [==============================] - 3s 832ms/step - loss: 0.2195 - accuracy: 0.9512 - val_loss: 0.3416 - val_accuracy: 0.9167\n",
      "Epoch 25/50\n",
      "2/2 [==============================] - 3s 1s/step - loss: 0.2364 - accuracy: 0.9268 - val_loss: 0.2647 - val_accuracy: 0.9167\n",
      "Epoch 26/50\n",
      "2/2 [==============================] - 3s 2s/step - loss: 0.3046 - accuracy: 0.8780 - val_loss: 0.2617 - val_accuracy: 0.8333\n",
      "Epoch 27/50\n",
      "2/2 [==============================] - 3s 953ms/step - loss: 0.2161 - accuracy: 0.9024 - val_loss: 0.4987 - val_accuracy: 0.7500\n",
      "Epoch 28/50\n",
      "2/2 [==============================] - 2s 1s/step - loss: 0.1775 - accuracy: 0.9024 - val_loss: 0.2589 - val_accuracy: 0.8333\n",
      "Epoch 29/50\n",
      "2/2 [==============================] - 2s 2s/step - loss: 0.1612 - accuracy: 0.9756 - val_loss: 0.2439 - val_accuracy: 1.0000\n",
      "Epoch 30/50\n",
      "2/2 [==============================] - 2s 2s/step - loss: 0.2278 - accuracy: 0.9268 - val_loss: 0.2144 - val_accuracy: 0.9167\n",
      "Epoch 31/50\n",
      "2/2 [==============================] - 3s 1s/step - loss: 0.1593 - accuracy: 0.9756 - val_loss: 0.4168 - val_accuracy: 0.8333\n",
      "Epoch 32/50\n",
      "2/2 [==============================] - 3s 2s/step - loss: 0.2666 - accuracy: 0.8537 - val_loss: 0.7235 - val_accuracy: 0.6667\n",
      "Epoch 33/50\n",
      "2/2 [==============================] - 3s 2s/step - loss: 0.2458 - accuracy: 0.8780 - val_loss: 0.2140 - val_accuracy: 0.9167\n",
      "Epoch 34/50\n",
      "2/2 [==============================] - 3s 2s/step - loss: 0.1837 - accuracy: 0.9512 - val_loss: 0.1972 - val_accuracy: 1.0000\n",
      "Epoch 35/50\n",
      "2/2 [==============================] - 3s 2s/step - loss: 0.1970 - accuracy: 0.9512 - val_loss: 0.2561 - val_accuracy: 0.9167\n",
      "Epoch 36/50\n",
      "2/2 [==============================] - 3s 1s/step - loss: 0.2012 - accuracy: 0.9512 - val_loss: 0.2111 - val_accuracy: 0.9167\n",
      "Epoch 37/50\n",
      "2/2 [==============================] - 3s 2s/step - loss: 0.1696 - accuracy: 0.9756 - val_loss: 0.2395 - val_accuracy: 0.9167\n",
      "Epoch 38/50\n",
      "2/2 [==============================] - 3s 2s/step - loss: 0.1121 - accuracy: 0.9756 - val_loss: 0.2836 - val_accuracy: 0.9167\n",
      "Epoch 39/50\n",
      "2/2 [==============================] - 2s 2s/step - loss: 0.1059 - accuracy: 1.0000 - val_loss: 0.4160 - val_accuracy: 0.8333\n",
      "Epoch 40/50\n",
      "2/2 [==============================] - 2s 2s/step - loss: 0.0790 - accuracy: 0.9512 - val_loss: 0.3172 - val_accuracy: 0.9167\n",
      "Epoch 41/50\n",
      "2/2 [==============================] - 3s 2s/step - loss: 0.1034 - accuracy: 0.9512 - val_loss: 0.4345 - val_accuracy: 0.9167\n",
      "Epoch 42/50\n",
      "2/2 [==============================] - 3s 2s/step - loss: 0.1592 - accuracy: 0.9512 - val_loss: 0.4901 - val_accuracy: 0.8333\n",
      "Epoch 43/50\n",
      "2/2 [==============================] - 3s 2s/step - loss: 0.0534 - accuracy: 1.0000 - val_loss: 0.3007 - val_accuracy: 0.9167\n",
      "Epoch 44/50\n",
      "2/2 [==============================] - 3s 2s/step - loss: 0.0786 - accuracy: 1.0000 - val_loss: 0.3531 - val_accuracy: 0.7500\n",
      "Epoch 45/50\n",
      "2/2 [==============================] - 3s 2s/step - loss: 0.1099 - accuracy: 0.9512 - val_loss: 0.2940 - val_accuracy: 0.7500\n",
      "Epoch 46/50\n",
      "2/2 [==============================] - 3s 2s/step - loss: 0.0617 - accuracy: 1.0000 - val_loss: 0.2707 - val_accuracy: 0.9167\n",
      "Epoch 47/50\n",
      "2/2 [==============================] - 3s 1s/step - loss: 0.0605 - accuracy: 1.0000 - val_loss: 0.4179 - val_accuracy: 0.8333\n",
      "Epoch 48/50\n",
      "2/2 [==============================] - 3s 1s/step - loss: 0.0851 - accuracy: 0.9512 - val_loss: 0.3758 - val_accuracy: 0.9167\n",
      "Epoch 49/50\n",
      "2/2 [==============================] - 3s 2s/step - loss: 0.0918 - accuracy: 0.9512 - val_loss: 0.6101 - val_accuracy: 0.8333\n",
      "Epoch 50/50\n",
      "2/2 [==============================] - 2s 2s/step - loss: 0.0402 - accuracy: 1.0000 - val_loss: 0.4592 - val_accuracy: 0.8333\n",
      "Treinamento concluído!\n"
     ]
    }
   ],
   "source": [
    "# Treinamento\n",
    "model.fit(\n",
    "    train_generator,\n",
    "    epochs=num_epochs,\n",
    "    validation_data=validation_generator\n",
    ")\n",
    "\n",
    "print('Treinamento concluído!')\n",
    "\n",
    "# Salvar o modelo\n",
    "model.save('treinamento.keras')"
   ]
  }
 ],
 "metadata": {
  "kernelspec": {
   "display_name": "Python 3",
   "language": "python",
   "name": "python3"
  },
  "language_info": {
   "codemirror_mode": {
    "name": "ipython",
    "version": 3
   },
   "file_extension": ".py",
   "mimetype": "text/x-python",
   "name": "python",
   "nbconvert_exporter": "python",
   "pygments_lexer": "ipython3",
   "version": "3.10.4"
  }
 },
 "nbformat": 4,
 "nbformat_minor": 2
}
