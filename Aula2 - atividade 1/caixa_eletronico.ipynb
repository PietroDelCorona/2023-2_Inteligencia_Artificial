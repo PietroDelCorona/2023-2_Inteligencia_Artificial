{
 "cells": [
  {
   "cell_type": "markdown",
   "metadata": {},
   "source": [
    "PROBLEMA 1\n",
    "    Fazer a escolha de notas para trocar dinheiro usando greedy\n",
    "    real : lista de valores das notas disponíveis\n",
    "    X    : valor do troco a ser alcançado\n",
    "        real = [100, 50, 10, 5, 2, 1, 200, 20]\n",
    "        resposta_greedy = caixaEletronico(235)\n",
    "        print(\"Notas a serem usadas:\", resposta_greedy)\n",
    "        print(\"Número de notas:\", len(resposta_greedy))\n",
    "\n",
    "A busca gulosa é uma abordagem heurística que sempre faz a escolha localmente ótima em cada etapa, na esperança de que isso levará a uma solução global ótima. No entanto, a busca gulosa não garante sempre a solução ótima para todos os problemas, podendo fornecer resultados subótimos em alguns casos.\n",
    "\n",
    "PROBLEMA 2\n",
    "    Fazer a escolha de notas para trocar dinheiro usando A*\n",
    "    real : lista de valores das notas disponíveis\n",
    "    X    : valor do troco a ser alcançado\n",
    "    HEURISTICA\n",
    "        real = np.array([100, 50, 10, 5, 2, 1, 200, 20])\n",
    "        resposta_a_star = caixaEletronico_A_star(235)\n",
    "        print(\"Notas a serem usadas (A*):\", resposta_a_star)\n",
    "        print(\"Número de notas (A*):\", len(resposta_a_star))\n",
    "\n",
    "É uma parte essencial do algoritmo A* para garantir que estados mais promissores (menores custos) sejam explorados primeiro através de uma heurística.\n",
    "ENTREGAR EM ZIP os algoritmos em .ipynb, Entrega Individual, mas pode desenvolver em grupo, com seu #nome completo dentro do código."
   ]
  },
  {
   "cell_type": "markdown",
   "metadata": {},
   "source": [
    "Nome do Aluno: Pietro Del Corona"
   ]
  },
  {
   "cell_type": "markdown",
   "metadata": {},
   "source": [
    "Algoritmo Guloso"
   ]
  },
  {
   "cell_type": "code",
   "execution_count": 29,
   "metadata": {},
   "outputs": [
    {
     "name": "stdout",
     "output_type": "stream",
     "text": [
      "Notas a serem usadas: [100, 100, 100, 100, 100, 100, 100, 50, 10, 10, 10, 2, 2]\n",
      "Número de notas a serem usadas: 13\n"
     ]
    }
   ],
   "source": [
    "def saque_guloso(valor):\n",
    "    notas_disponiveis = [100, 50, 10, 5, 2, 1, 200, 20]\n",
    "    troco = []\n",
    "    \n",
    "    for nota in notas_disponiveis:\n",
    "        while valor >= nota:\n",
    "            troco.append(nota)\n",
    "            valor -= nota\n",
    "    \n",
    "    return troco\n",
    "\n",
    "def main():\n",
    "    valor = 235\n",
    "    troco = saque_guloso(valor)\n",
    "    if troco:\n",
    "        print(f\"Notas a serem usadas: {troco}\")\n",
    "        print(f\"Número de notas a serem usadas: {len(troco)}\")\n",
    "    else:\n",
    "        print(\"Não é possível dar o valor com as notas disponíveis.\")\n",
    "        \n",
    "main()\n"
   ]
  },
  {
   "cell_type": "markdown",
   "metadata": {},
   "source": [
    "Algoritmo A*"
   ]
  },
  {
   "cell_type": "code",
   "execution_count": 31,
   "metadata": {},
   "outputs": [
    {
     "name": "stdout",
     "output_type": "stream",
     "text": [
      "Notas a serem usadas: [10, 5, 200, 20]\n",
      "Número de notas a serem usadas: 4\n"
     ]
    }
   ],
   "source": [
    "import numpy as np\n",
    "\n",
    "def saque_a_estrela(valor):\n",
    "    notas_disponiveis = np.array([100, 50, 10, 5, 2, 1, 200, 20])\n",
    "    \n",
    "    \n",
    "    no_inicial = (valor, [])\n",
    "    \n",
    "    \n",
    "    lista_aberta = [no_inicial]\n",
    "    \n",
    "    while lista_aberta:\n",
    "        no_atual = lista_aberta.pop(0)\n",
    "        valor_atual, notas_usadas = no_atual\n",
    "        \n",
    "        if valor_atual == 0:\n",
    "            return notas_usadas\n",
    "        \n",
    "        for nota in notas_disponiveis:\n",
    "            if nota <= valor_atual:\n",
    "                novo_valor = valor_atual - nota\n",
    "                nova_nota = notas_usadas + [nota]\n",
    "                lista_aberta.append((novo_valor, nova_nota))\n",
    "    \n",
    "    return None \n",
    "\n",
    "def main():\n",
    "    valor = 235\n",
    "    troco = saque_a_estrela(valor)\n",
    "    \n",
    "    if troco:\n",
    "        print(f\"Notas a serem usadas: {troco}\")\n",
    "        print(f\"Número de notas a serem usadas: {len(troco)}\")\n",
    "    else:\n",
    "        print(\"Não é possível dar o valor com as notas disponíveis.\")\n",
    "    \n",
    "main()"
   ]
  }
 ],
 "metadata": {
  "kernelspec": {
   "display_name": ".venv",
   "language": "python",
   "name": "python3"
  },
  "language_info": {
   "codemirror_mode": {
    "name": "ipython",
    "version": 3
   },
   "file_extension": ".py",
   "mimetype": "text/x-python",
   "name": "python",
   "nbconvert_exporter": "python",
   "pygments_lexer": "ipython3",
   "version": "3.10.4"
  },
  "orig_nbformat": 4
 },
 "nbformat": 4,
 "nbformat_minor": 2
}
